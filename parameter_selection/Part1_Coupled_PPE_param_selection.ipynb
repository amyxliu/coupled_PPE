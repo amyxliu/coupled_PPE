{
 "cells": [
  {
   "cell_type": "markdown",
   "id": "d70b37d2-368b-43a5-9342-6e577be4e88c",
   "metadata": {},
   "source": [
    "Most of this code is modified from Daniel Kennedy's code for parameter selection (on Github; https://github.com/djk2120/CLM5PPE/blob/master/pyth/param_selection.ipynb) "
   ]
  },
  {
   "cell_type": "markdown",
   "id": "db9707d5-d69c-47e6-a2ea-29ad8645ac67",
   "metadata": {
    "jp-MarkdownHeadingCollapsed": true,
    "tags": []
   },
   "source": [
    "# Set up workspace"
   ]
  },
  {
   "cell_type": "code",
   "execution_count": 1,
   "id": "59d25f37-7578-44cc-8456-e2ee56884a3c",
   "metadata": {},
   "outputs": [],
   "source": [
    "import numpy as np\n",
    "import pandas as pd\n",
    "import xarray as xr\n",
    "import glob\n",
    "import matplotlib\n",
    "import matplotlib.pyplot as plt\n",
    "import cftime\n",
    "import dask\n",
    "import statsmodels.api as sm"
   ]
  },
  {
   "cell_type": "markdown",
   "id": "8e588a84-a3fc-49df-843e-a60005ebc75c",
   "metadata": {
    "jp-MarkdownHeadingCollapsed": true,
    "tags": []
   },
   "source": [
    "# Define functions for reading in PPE data\n",
    "(code from Daniel Kennedy)"
   ]
  },
  {
   "cell_type": "code",
   "execution_count": 2,
   "id": "3b640bea-b92a-423f-aa60-2069be74758e",
   "metadata": {},
   "outputs": [],
   "source": [
    "# Updated for PBS scheduler\n",
    "# this could go into utils.\n",
    "# By default gets 1 core w/ 25 GB memory\n",
    "def get_ClusterClient(ncores=1, nmem='25GB'):\n",
    "    \"\"\"Code from Daniel Kennedy\"\"\"\n",
    "    import dask\n",
    "    from dask_jobqueue import PBSCluster\n",
    "    from dask.distributed import Client\n",
    "    ncores=ncores\n",
    "    nmem = nmem\n",
    "\n",
    "    cluster = PBSCluster(\n",
    "        cores=ncores, # The number of cores you want\n",
    "        memory=nmem, # Amount of memory\n",
    "        processes=ncores, # How many processes\n",
    "        queue='casper', # The type of queue to utilize (/glade/u/apps/dav/opt/usr/bin/execcasper)\n",
    "        resource_spec='select=1:ncpus='+str(ncores)+':mem='+nmem, # Specify resources\n",
    "        project='UWAS0044', # Input your project ID here\n",
    "        walltime='1:00:00', # Amount of wall time\n",
    "        interface='ib0', # Interface to use\n",
    "    )\n",
    "\n",
    "    client = Client(cluster)\n",
    "    return cluster, client"
   ]
  },
  {
   "cell_type": "code",
   "execution_count": 3,
   "id": "a386e1d2-a189-4211-9f98-5bfbee61d44f",
   "metadata": {
    "tags": []
   },
   "outputs": [],
   "source": [
    "cluster, client = get_ClusterClient()\n",
    "cluster.scale(20)"
   ]
  },
  {
   "cell_type": "code",
   "execution_count": 4,
   "id": "b34e54d2-f992-4339-b239-430a4434f71d",
   "metadata": {},
   "outputs": [
    {
     "data": {
      "text/html": [
       "<table style=\"border: 2px solid white;\">\n",
       "<tr>\n",
       "<td style=\"vertical-align: top; border: 0px solid white\">\n",
       "<h3 style=\"text-align: left;\">Client</h3>\n",
       "<ul style=\"text-align: left; list-style: none; margin: 0; padding: 0;\">\n",
       "  <li><b>Scheduler: </b>tcp://10.12.206.63:45010</li>\n",
       "  <li><b>Dashboard: </b><a href='https://jupyterhub.hpc.ucar.edu/stable/user/czarakas/proxy/{port}/status' target='_blank'>https://jupyterhub.hpc.ucar.edu/stable/user/czarakas/proxy/{port}/status</a></li>\n",
       "</ul>\n",
       "</td>\n",
       "<td style=\"vertical-align: top; border: 0px solid white\">\n",
       "<h3 style=\"text-align: left;\">Cluster</h3>\n",
       "<ul style=\"text-align: left; list-style:none; margin: 0; padding: 0;\">\n",
       "  <li><b>Workers: </b>0</li>\n",
       "  <li><b>Cores: </b>0</li>\n",
       "  <li><b>Memory: </b>0 B</li>\n",
       "</ul>\n",
       "</td>\n",
       "</tr>\n",
       "</table>"
      ],
      "text/plain": [
       "<Client: 'tcp://10.12.206.63:45010' processes=0 threads=0, memory=0 B>"
      ]
     },
     "execution_count": 4,
     "metadata": {},
     "output_type": "execute_result"
    }
   ],
   "source": [
    "client"
   ]
  },
  {
   "cell_type": "code",
   "execution_count": 5,
   "id": "2b9b5dda-b94b-4696-adc2-fbfd8919a845",
   "metadata": {},
   "outputs": [],
   "source": [
    "def get_params(keys,paramkey):\n",
    "    \"\"\"Code from Daniel Kennedy\"\"\"\n",
    "    params=[]\n",
    "    minmaxs=[]\n",
    "    for key in keys:\n",
    "        ix     = paramkey.key==key\n",
    "        params.append(paramkey.param[ix].values[0])\n",
    "        minmaxs.append(paramkey.minmax[ix].values[0])\n",
    "    return params,minmaxs"
   ]
  },
  {
   "cell_type": "code",
   "execution_count": 6,
   "id": "c3ae54e1-1d03-4ab9-a4f4-8af4b1da401d",
   "metadata": {},
   "outputs": [],
   "source": [
    "def month_wts(nyears):\n",
    "    \"\"\"Code from Daniel Kennedy\"\"\"\n",
    "    days_pm  = [31,28,31,30,31,30,31,31,30,31,30,31]\n",
    "    return xr.DataArray(np.tile(days_pm,nyears),dims='time')"
   ]
  },
  {
   "cell_type": "code",
   "execution_count": 7,
   "id": "a0aa3200-e403-4463-9460-c4c2d36be278",
   "metadata": {},
   "outputs": [],
   "source": [
    "def get_ensemble(name,data_vars,htape,keys,paramkey):\n",
    "    \"\"\"Code from Daniel Kennedy\"\"\"\n",
    "    '''\n",
    "    Returns a dataset comprising the given ensemble\n",
    "    name  = 'CTL2020' or 'C285' or 'AF1905'\n",
    "    data_vars, e.g. ['GPP','HR','AR']\n",
    "    htape, e.g. 'h0' 0/1/2/3/4/5/7 available\n",
    "    '''\n",
    "    \n",
    "    #define the directory structure and find files\n",
    "    topdir     = '/glade/scratch/djk2120/PPEn11/hist/' \n",
    "    thisdir    = topdir+name+'/'\n",
    "    files      = [glob.glob(thisdir+'*'+key+'*'+htape+'*.nc')[0] for key in keys]\n",
    "\n",
    "    def preprocess(ds):\n",
    "        return ds[data_vars]\n",
    "\n",
    "    #read in the dataset\n",
    "    ds = xr.open_mfdataset(files,combine='nested',concat_dim='ens',\n",
    "                           parallel=True,preprocess=preprocess)\n",
    "\n",
    "    #fix up time dimension\n",
    "    if htape=='h0':\n",
    "        ds['time'] = xr.cftime_range(str(2005),periods=120,freq='MS') #fix time bug\n",
    "    \n",
    "    #add in some extra variables\n",
    "    ds0 = xr.open_dataset(files[0])\n",
    "    extras = ['grid1d_lat','grid1d_lon']\n",
    "    for extra in extras:\n",
    "        ds[extra]=ds0[extra]\n",
    "\n",
    "    #append some info about key/param/minmax\n",
    "    params,minmaxs = get_params(keys,paramkey) \n",
    "    ds['key']    = xr.DataArray(keys,dims='ens')\n",
    "    ds['param']  = xr.DataArray(params,dims='ens')\n",
    "    ds['minmax'] = xr.DataArray(minmaxs,dims='ens')\n",
    "    \n",
    "    whit         = xr.open_dataset('./whit/whitkey.nc') #('./whit/whitkey2.nc')\n",
    "    ds['biome']      = whit['biome']\n",
    "    ds['biome_name'] = whit['biome_name']\n",
    "    \n",
    "    return ds"
   ]
  },
  {
   "cell_type": "code",
   "execution_count": 8,
   "id": "fcef931c-cb93-4c00-9f44-2bb7773aa3fd",
   "metadata": {},
   "outputs": [],
   "source": [
    "def calc_mean(ds,datavar):\n",
    "    \"\"\"Code modified from code from Daniel Kennedy\"\"\"\n",
    "    cf = cfs[datavar]\n",
    "    x  = ds[datavar]\n",
    "    \n",
    "    da_ann  = cf*(month_wts(10)*(la*x).sum(dim='gridcell')).groupby('time.year').sum(dim='time').compute()\n",
    "    da_mean = da_ann.mean(dim='year') \n",
    "    \n",
    "    return da_mean,da_ann"
   ]
  },
  {
   "cell_type": "code",
   "execution_count": 9,
   "id": "01b49d1e-4a1d-4896-9921-243e9f746f69",
   "metadata": {},
   "outputs": [],
   "source": [
    "def calc_iav(ds,datavar,da_ann=[]):\n",
    "    \"\"\"Code modified from code from Daniel Kennedy\"\"\"\n",
    "    #compute da_ann if not provided\n",
    "    if len(da_ann)==0:\n",
    "        cf = cfs[datavar]\n",
    "        x  = ds[datavar]\n",
    "        da_ann  = cf*(month_wts(10)*(la*x).sum(dim='gridcell')).groupby('time.year').sum().compute()\n",
    "    da_iav = da_ann.std(dim='year')\n",
    "    return da_iav"
   ]
  },
  {
   "cell_type": "code",
   "execution_count": 10,
   "id": "a67e1fb7-30ff-4818-a055-cf01524b58c6",
   "metadata": {},
   "outputs": [],
   "source": [
    "def top_n(da,nx,params,minmax,uniques):\n",
    "    \"\"\" Code from Daniel Kennedy \"\"\"\n",
    "    xmins=[];xmaxs=[];dxs=[]\n",
    "    for u in uniques:\n",
    "        pair  = find_pair(da,params,minmax,u)\n",
    "        xmin  = pair[0].values\n",
    "        xmax  = pair[1].values\n",
    "        dx    = abs(xmax-xmin)\n",
    "\n",
    "        xmins.append(xmin)\n",
    "        xmaxs.append(xmax)\n",
    "        dxs.append(dx)\n",
    "\n",
    "    ranks = np.argsort(dxs)\n",
    "\n",
    "    pvals = [uniques[ranks[i]] for i in range(-nx,0)]\n",
    "    xmins = [xmins[ranks[i]]   for i in range(-nx,0)]\n",
    "    xmaxs = [xmaxs[ranks[i]]   for i in range(-nx,0)]\n",
    "    \n",
    "    return xmins,xmaxs,pvals"
   ]
  },
  {
   "cell_type": "code",
   "execution_count": 11,
   "id": "fcdbbf35-865b-44b7-83b4-e76765bbd6cd",
   "metadata": {},
   "outputs": [],
   "source": [
    "def find_pair(da,params,minmax,p):\n",
    "    '''\n",
    "    Code from Daniel Kennedy\n",
    "    returns a subset of da, corresponding to parameter-p\n",
    "        the returned pair corresponds to [p_min,p_max]\n",
    "    '''\n",
    "    ixmin = np.logical_and(params==p,minmax=='min')\n",
    "    ixmax = np.logical_and(params==p,minmax=='max')\n",
    "    \n",
    "    #sub in default if either is missing\n",
    "    if ixmin.sum().values==0:\n",
    "        ixmin = params=='default'\n",
    "    if ixmax.sum().values==0:\n",
    "        ixmax = params=='default'\n",
    "        \n",
    "    emin = da.ens.isel(ens=ixmin).values[0]\n",
    "    emax = da.ens.isel(ens=ixmax).values[0]\n",
    "\n",
    "    return da.sel(ens=[emin,emax])"
   ]
  },
  {
   "cell_type": "markdown",
   "id": "5653b2ba-83ba-4c01-9ceb-3509f2995f48",
   "metadata": {
    "jp-MarkdownHeadingCollapsed": true,
    "tags": []
   },
   "source": [
    "# Read in Data"
   ]
  },
  {
   "cell_type": "code",
   "execution_count": 13,
   "id": "81916a0e-7c10-4277-b7ee-8070fbf9b2bd",
   "metadata": {},
   "outputs": [],
   "source": [
    "#fetch the key for which parameters correspond to which simulations\n",
    "csv = '/glade/scratch/djk2120/PPEn11/surv.csv' \n",
    "paramkey = pd.read_csv(csv)\n",
    "\n",
    "#fetch the sparsegrid landarea\n",
    "la_file = '/glade/scratch/djk2120/PPEn08/sparsegrid_landarea.nc'\n",
    "la = xr.open_dataset(la_file).landarea  #km2"
   ]
  },
  {
   "cell_type": "code",
   "execution_count": 14,
   "id": "6d105084-71f2-456f-92a1-520d7e43e8dd",
   "metadata": {},
   "outputs": [],
   "source": [
    "#choose your subset of variables\n",
    "data_vars = ['FIRE','FSA','FSDSVD','FSRVD','FSDSND', 'FSRND','FSDSVI', 'FSRVI','FSDSNI', 'FSRNI',\n",
    "             'FSR','FSDS','EFLX_LH_TOT','FSH',\n",
    "             'QVEGT','QVEGE','QSOIL',\n",
    "             'TSA','TSKIN',\n",
    "             'Q2M',\n",
    "             'TAUX','TAUY','U10']\n",
    "\n",
    "keys = paramkey.key\n",
    "\n",
    "#read in the dataset\n",
    "ds = get_ensemble('CTL2010',data_vars,'h0',keys,paramkey)"
   ]
  },
  {
   "cell_type": "markdown",
   "id": "cd7a2196-c22e-4d4d-89be-1bfff27ab427",
   "metadata": {},
   "source": [
    "### Calculate new variables"
   ]
  },
  {
   "cell_type": "code",
   "execution_count": 15,
   "id": "621e94f3-925b-44f5-bcde-30a190608e83",
   "metadata": {},
   "outputs": [],
   "source": [
    "ds['albedo_allSW'] = ds['FSR']/ds['FSDS']\n",
    "ds['albedo_allSW'].attrs['units']='unitless'\n",
    "ds['alb_DirVis'] = ds['FSRVD']/ds['FSDSVD']\n",
    "ds['alb_DirVis'].attrs['units']='unitless'\n",
    "ds['alb_DirNIR'] = ds['FSRND']/ds['FSDSND']\n",
    "ds['alb_DirNIR'].attrs['units']='unitless'\n",
    "ds['alb_DifVis'] = ds['FSRVI']/ds['FSDSVI']\n",
    "ds['alb_DifVis'].attrs['units']='unitless'\n",
    "ds['alb_DifNIR'] = ds['FSRNI']/ds['FSDSNI']\n",
    "ds['alb_DifNIR'].attrs['units']='unitless'\n",
    "\n",
    "ds['ET'] = ds['QVEGT']+ds['QVEGE']+ds['QSOIL']\n",
    "ds['ET'].attrs['units']=ds['QVEGT'].attrs['units']"
   ]
  },
  {
   "cell_type": "code",
   "execution_count": 16,
   "id": "36fdedd9-0b76-401f-b2a4-967076d49f46",
   "metadata": {},
   "outputs": [],
   "source": [
    "data_vars2 = ['EFLX_LH_TOT',\n",
    "              'FSH',\n",
    "              'ET',\n",
    "              'TAUX',\n",
    "              'TAUY',\n",
    "              'FIRE',\n",
    "              'albedo_allSW',\n",
    "              'alb_DirVis',\n",
    "              'alb_DifVis',\n",
    "              'alb_DirNIR',\n",
    "              'alb_DifNIR',\n",
    "              'FSA',\n",
    "              'TSKIN',\n",
    "              'TSA',\n",
    "              'Q2M',\n",
    "              'U10']"
   ]
  },
  {
   "cell_type": "code",
   "execution_count": 17,
   "id": "cf78f021-347f-4beb-8225-8b0ea7f26d91",
   "metadata": {
    "tags": []
   },
   "outputs": [],
   "source": [
    "cfs = dict()             # Conversion Factors\n",
    "units = dict()\n",
    "lasum = la.sum().values\n",
    "    \n",
    "for field in data_vars2:\n",
    "    #intensives (need to account for landarea)\n",
    "    cfs[field]   = 1/la.sum()/365\n",
    "    units[field] = ds[field].attrs['units']"
   ]
  },
  {
   "cell_type": "code",
   "execution_count": 18,
   "id": "acd98fbc-8e34-41cd-a3a5-13d504301a5d",
   "metadata": {},
   "outputs": [],
   "source": [
    "#uniques = np.unique(ds.param)\n",
    "#ix = uniques=='default'\n",
    "#uniques = uniques[~ix]\n",
    "\n",
    "uniques = list(np.unique(ds.param))\n",
    "uniques.remove('default')"
   ]
  },
  {
   "cell_type": "code",
   "execution_count": 19,
   "id": "cada2e68-1377-4e55-8c02-8c9c5de01ed9",
   "metadata": {
    "tags": []
   },
   "outputs": [],
   "source": [
    "params=ds.param\n",
    "minmax=ds.minmax"
   ]
  },
  {
   "cell_type": "markdown",
   "id": "ff6c00c0-88bb-4ec0-9e49-ecc27e5238f8",
   "metadata": {},
   "source": [
    "# Calculate parameter rankings for various quantities"
   ]
  },
  {
   "cell_type": "markdown",
   "id": "21c23532-e686-4458-afde-d4d34d55ce20",
   "metadata": {
    "jp-MarkdownHeadingCollapsed": true,
    "tags": []
   },
   "source": [
    "## *Part 1: global mean and interannual variability*"
   ]
  },
  {
   "cell_type": "code",
   "execution_count": 20,
   "id": "8486b707-2cda-4100-97ed-3e1543f9663a",
   "metadata": {
    "tags": []
   },
   "outputs": [
    {
     "name": "stdout",
     "output_type": "stream",
     "text": [
      "EFLX_LH_TOT\n",
      "FSH\n",
      "ET\n",
      "TAUX\n",
      "TAUY\n",
      "FIRE\n",
      "albedo_allSW\n",
      "alb_DirVis\n",
      "alb_DifVis\n",
      "alb_DirNIR\n",
      "alb_DifNIR\n",
      "FSA\n",
      "TSKIN\n",
      "TSA\n",
      "Q2M\n",
      "U10\n"
     ]
    }
   ],
   "source": [
    "cutoff_num =5\n",
    "params_top5 = []\n",
    "params_biome = []\n",
    "params_criteria = []\n",
    "params_rank = []\n",
    "params_variable = []\n",
    "params_measure = []\n",
    "\n",
    "uniques = list(np.unique(ds.param))\n",
    "uniques.remove('default')\n",
    "\n",
    "for datavar in data_vars2:\n",
    "    print(datavar)\n",
    "    [da_mean,da_ann] = calc_mean(ds, datavar)\n",
    "    iav = calc_iav(ds, datavar, da_ann=da_ann)\n",
    "    \n",
    "    # Mean\n",
    "    [xmins,xmaxs,pvals] = top_n(da_mean,\n",
    "                                cutoff_num,params,minmax,uniques)\n",
    "    pvals.reverse()\n",
    "    xmins.reverse()\n",
    "    xmaxs.reverse()\n",
    "    params_top5 = params_top5 + pvals[0:cutoff_num]\n",
    "    params_biome = params_biome+['global']*cutoff_num\n",
    "    params_criteria = params_criteria+[datavar+'_MEAN_global']*cutoff_num\n",
    "    params_rank = params_rank+np.arange(1,cutoff_num+1).tolist()\n",
    "    params_variable = params_variable+[datavar]*cutoff_num\n",
    "    params_measure = params_measure+['mean']*cutoff_num\n",
    "\n",
    "    # IAV\n",
    "    [xmins,xmaxs,pvals] = top_n(iav,cutoff_num,params,minmax,uniques)\n",
    "    pvals.reverse()\n",
    "    xmins.reverse()\n",
    "    xmaxs.reverse()\n",
    "    params_top5 = params_top5 + pvals[0:cutoff_num]\n",
    "    params_biome = params_biome+['global']*cutoff_num\n",
    "    params_criteria = params_criteria+[datavar+'_IAV_global']*cutoff_num\n",
    "    params_rank = params_rank+np.arange(1,cutoff_num+1).tolist()\n",
    "    params_variable = params_variable+[datavar]*cutoff_num\n",
    "    params_measure = params_measure+['iav']*cutoff_num"
   ]
  },
  {
   "cell_type": "code",
   "execution_count": 21,
   "id": "55559436-afc3-461d-abfb-a020afa64f5e",
   "metadata": {},
   "outputs": [],
   "source": [
    "# dictionary of lists \n",
    "df_global = pd.DataFrame({'param_name': params_top5, \n",
    "                          'biome': params_biome, \n",
    "                          'criteria': params_criteria, \n",
    "                          'rank': params_rank,\n",
    "                          'variable':params_variable,\n",
    "                          'measure': params_measure} )"
   ]
  },
  {
   "cell_type": "markdown",
   "id": "e427326b-c6d4-4a7a-891d-9e5ffaa2350f",
   "metadata": {
    "jp-MarkdownHeadingCollapsed": true,
    "tags": []
   },
   "source": [
    "## *Part 2: Whitakker biome mean and interannual variability*"
   ]
  },
  {
   "cell_type": "code",
   "execution_count": 22,
   "id": "3a4d686e-a8be-4b97-97cc-a6844ad721fb",
   "metadata": {},
   "outputs": [],
   "source": [
    "env = 'CTL2010'\n",
    "#@njit\n",
    "def calc_mean_biome(dsb,datavar,lab):\n",
    "\n",
    "    domain='biome'\n",
    "    preload = './data/'+env+'_'+datavar+'_'+domain+'.nc'\n",
    "    \n",
    "    if not glob.glob(preload):\n",
    "        #do the calculation\n",
    "        cf = cfs[datavar]  #conversion factor\n",
    "        if cf=='intrinsic':\n",
    "            cf = 1/lab.groupby('biome').sum()/365\n",
    "        x  = dsb[datavar]\n",
    "\n",
    "        #calc annual mean or sum (determined by cf)\n",
    "        xann = cf*(month_wts(10)*(lab*x).groupby('biome').sum()).groupby('time.year').sum().compute()\n",
    "\n",
    "        #average/iav\n",
    "        xm  = xann.mean(dim='year') \n",
    "        iav = xann.std(dim='year')\n",
    "\n",
    "        #save the reduced data\n",
    "        out = xr.Dataset()\n",
    "        out[datavar+'_mean'] = xm\n",
    "        out[datavar+'_mean'].attrs= {'units':units[datavar]}\n",
    "        out[datavar+'_iav']  = iav\n",
    "        out[datavar+'_iav'].attrs= {'units':units[datavar]}\n",
    "        out['param']  = dsb.param\n",
    "        out['minmax'] = dsb.minmax\n",
    "        out.load().to_netcdf(preload)\n",
    "\n",
    "\n",
    "    #load from file if available\n",
    "    ds  = xr.open_dataset(preload)\n",
    "    xm  = ds[datavar+'_mean']\n",
    "    iav = ds[datavar+'_iav']\n",
    "    \n",
    "    return xm,iav"
   ]
  },
  {
   "cell_type": "code",
   "execution_count": 23,
   "id": "a9733c3b-bda1-45a1-9749-351f082863ef",
   "metadata": {
    "tags": []
   },
   "outputs": [],
   "source": [
    "la['biome']=ds['biome']\n",
    "lab = la.swap_dims({'gridcell':'biome'})\n",
    "dsb = ds.swap_dims({'gridcell':'biome'})"
   ]
  },
  {
   "cell_type": "code",
   "execution_count": 35,
   "id": "be408c15-aed4-4afc-9c3c-0ea4ae28b6e5",
   "metadata": {
    "tags": []
   },
   "outputs": [
    {
     "name": "stdout",
     "output_type": "stream",
     "text": [
      "EFLX_LH_TOT\n",
      "FSH\n",
      "ET\n",
      "TAUX\n",
      "TAUY\n",
      "FIRE\n",
      "albedo_allSW\n",
      "alb_DirVis\n",
      "alb_DifVis\n",
      "alb_DirNIR\n",
      "alb_DifNIR\n",
      "FSA\n",
      "TSKIN\n",
      "TSA\n",
      "Q2M\n",
      "U10\n"
     ]
    }
   ],
   "source": [
    "cutoff_num =5\n",
    "params_top5 = []\n",
    "params_biome = []\n",
    "params_criteria = []\n",
    "params_rank = []\n",
    "params_variable = []\n",
    "params_measure = []\n",
    "\n",
    "uniques = list(np.unique(ds.param))\n",
    "uniques.remove('default')\n",
    "\n",
    "for datavar in data_vars2:\n",
    "    print(datavar)\n",
    "    da,iav = calc_mean_biome(dsb,datavar,lab)\n",
    "    #print('calculated')\n",
    "    \n",
    "    for i in np.arange(0,10):\n",
    "        b = str(dsb.biome_name.isel(biome_id=i).values)\n",
    "        \n",
    "        [xmins,xmaxs,pvals] = top_n(da.isel(biome=i),\n",
    "                                    10,params,minmax,uniques)\n",
    "        pvals.reverse()\n",
    "        xmins.reverse()\n",
    "        xmaxs.reverse()\n",
    "        params_top5 = params_top5 + pvals[0:cutoff_num]\n",
    "        params_biome = params_biome+[b]*cutoff_num\n",
    "        params_criteria = params_criteria+[da.name+'_'+b]*cutoff_num\n",
    "        params_rank = params_rank+np.arange(1,cutoff_num+1).tolist()\n",
    "        params_variable = params_variable+[datavar]*cutoff_num\n",
    "        params_measure = params_measure+['mean']*cutoff_num\n",
    "        \n",
    "        [xmins,xmaxs,pvals] = top_n(iav.isel(biome=i),\n",
    "                                    10,params,minmax,uniques)\n",
    "        pvals.reverse()\n",
    "        xmins.reverse()\n",
    "        xmaxs.reverse()\n",
    "        params_top5 = params_top5 + pvals[0:cutoff_num]\n",
    "        params_biome = params_biome+[b]*cutoff_num\n",
    "        params_criteria = params_criteria+[da.name+'_'+b]*cutoff_num\n",
    "        params_rank = params_rank+np.arange(1,cutoff_num+1).tolist()\n",
    "        params_variable = params_variable+[datavar]*cutoff_num\n",
    "        params_measure = params_measure+['iav']*cutoff_num\n",
    "        \n",
    "        #print(pvals[0:5])"
   ]
  },
  {
   "cell_type": "code",
   "execution_count": 36,
   "id": "48b1a352-8115-4e58-9357-f7a495640a8c",
   "metadata": {},
   "outputs": [],
   "source": [
    "# dictionary of lists \n",
    "df_biomes = pd.DataFrame({'param_name': params_top5, \n",
    "                          'biome': params_biome, \n",
    "                          'criteria': params_criteria, \n",
    "                          'rank': params_rank,\n",
    "                          'variable':params_variable,\n",
    "                          'measure': params_measure} )"
   ]
  },
  {
   "cell_type": "markdown",
   "id": "0c73a22f-2710-43c3-ab51-7d1a7dadcb8a",
   "metadata": {
    "tags": []
   },
   "source": [
    "#### Make figures for just one variable"
   ]
  },
  {
   "cell_type": "code",
   "execution_count": 37,
   "id": "2adcd2c5-bab3-46b7-b1ea-b2f153c51d74",
   "metadata": {
    "tags": []
   },
   "outputs": [],
   "source": [
    "datavar = 'EFLX_LH_TOT'\n",
    "da,iav = calc_mean_biome(dsb,datavar,lab)"
   ]
  },
  {
   "cell_type": "code",
   "execution_count": 38,
   "id": "be3c7346-360d-4f93-a4d5-9e81ae4f700e",
   "metadata": {},
   "outputs": [],
   "source": [
    "def plot20(da,nx,tstr,ll=True,xstr=''):\n",
    "    \n",
    "    uniques = list(np.unique(ds.param))\n",
    "    uniques.remove('default')\n",
    "    \n",
    "    xmins,xmaxs,pvals = top_n(da,nx,params,minmax,uniques)\n",
    "    xdef = da.isel(ens=0)\n",
    "    unit = da.attrs['units']\n",
    "    \n",
    "\n",
    "    \n",
    "    if len(xstr)==0:\n",
    "        xstr=tstr\n",
    "    nx = len(pvals)\n",
    "    plt.plot([xdef,xdef],[0,nx-1],'k:',label='default')\n",
    "    plt.scatter(xmins,range(nx),marker='o',facecolors='none', edgecolors='r',label='low-val')\n",
    "    plt.plot(xmaxs,range(nx),'ro',label='high-val')\n",
    "    if ll:\n",
    "        plt.legend(loc=3)\n",
    "    i=-1\n",
    "    for xmin,xmax in zip(xmins,xmaxs):\n",
    "        i+=1\n",
    "        plt.plot([xmin,xmax],[i,i],'r')\n",
    "    plt.yticks(range(nx),pvals)\n",
    "    plt.title(tstr)\n",
    "    plt.xlabel(xstr+' ('+unit+')');"
   ]
  },
  {
   "cell_type": "code",
   "execution_count": 39,
   "id": "10f0abdc-3cab-4a00-b6cb-88656adedb63",
   "metadata": {},
   "outputs": [
    {
     "data": {
      "image/png": "[encoded data removed]",
      "text/plain": [
       "<Figure size 864x720 with 9 Axes>"
      ]
     },
     "metadata": {
      "needs_background": "light"
     },
     "output_type": "display_data"
    }
   ],
   "source": [
    "### exclude ice sheet\n",
    "plt.figure(figsize=[12,10])\n",
    "ll=True\n",
    "for i in 1+np.arange(9):\n",
    "    plt.subplot(3,3,i)\n",
    "    \n",
    "    b = str(dsb.biome_name.isel(biome_id=i).values)\n",
    "    \n",
    "    plot20(da.isel(biome=i),10,b,ll=ll,xstr=datavar)\n",
    "    ll=False\n",
    "    if i<7:\n",
    "        plt.xlabel('')\n",
    "        \n",
    "plt.subplots_adjust(hspace=0.3)\n",
    "plt.subplots_adjust(wspace=0.5)"
   ]
  },
  {
   "cell_type": "markdown",
   "id": "a1366a53-e56a-431d-99f1-ce6eaa8d0f27",
   "metadata": {
    "tags": []
   },
   "source": [
    "## *Part 3: global hotspot coupling*"
   ]
  },
  {
   "cell_type": "code",
   "execution_count": 40,
   "id": "cdf15282-3516-4c02-b82e-4724c136ad90",
   "metadata": {
    "tags": []
   },
   "outputs": [
    {
     "name": "stdout",
     "output_type": "stream",
     "text": [
      "OAAT0119 > 1\n"
     ]
    }
   ],
   "source": [
    "keys_without_h5 = []\n",
    "for key in keys:\n",
    "    if np.size(glob.glob('/glade/scratch/djk2120/PPEn11/hist/CTL2010/'+'*'+key+'*'+'h5'+'*.nc'))==0:\n",
    "        print(key+ ' == 0')\n",
    "        keys_without_h5.append(key)\n",
    "    elif np.size(glob.glob('/glade/scratch/djk2120/PPEn11/hist/CTL2010/'+'*'+key+'*'+'h5'+'*.nc'))>1:\n",
    "        print(key+ ' > 1')\n",
    "        #keys_without_h5.append(key)"
   ]
  },
  {
   "cell_type": "code",
   "execution_count": 41,
   "id": "1c41b731-5e45-4397-9f08-7e74abdf050a",
   "metadata": {},
   "outputs": [],
   "source": [
    "tape='h5'\n",
    "data_vars = ['SOILWATER_10CM','FSH']\n",
    "keys_with_h5 = keys[~keys.isin(keys_without_h5)]\n",
    "dsd = get_ensemble('CTL2010',data_vars,tape,keys_with_h5,paramkey)"
   ]
  },
  {
   "cell_type": "code",
   "execution_count": 42,
   "id": "1710cfbc-372b-44b4-8c72-09754a8b6a98",
   "metadata": {},
   "outputs": [
    {
     "name": "stderr",
     "output_type": "stream",
     "text": [
      "/glade/u/ssg/ch/usr/jupyterhub/envs/npl-3.7.9/dav/lib/python3.7/site-packages/xarray/core/indexing.py:1369: PerformanceWarning: Slicing is producing a large chunk. To accept the large\n",
      "chunk and silence this warning, set the option\n",
      "    >>> with dask.config.set(**{'array.slicing.split_large_chunks': False}):\n",
      "    ...     array[indexer]\n",
      "\n",
      "To avoid creating the large chunks, set the option\n",
      "    >>> with dask.config.set(**{'array.slicing.split_large_chunks': True}):\n",
      "    ...     array[indexer]\n",
      "  return self.array[key]\n"
     ]
    }
   ],
   "source": [
    "#skip the first timestep and reindex\n",
    "t=np.arange(3651)\n",
    "dsd = dsd.shift(time=-1).sel(time=t<3650)"
   ]
  },
  {
   "cell_type": "code",
   "execution_count": null,
   "id": "1bf83d5c-b725-4e7f-85ae-4e0ff2e0f302",
   "metadata": {},
   "outputs": [
    {
     "name": "stderr",
     "output_type": "stream",
     "text": [
      "/glade/u/ssg/ch/usr/jupyterhub/envs/npl-3.7.9/dav/lib/python3.7/site-packages/xarray/core/indexing.py:1369: PerformanceWarning: Slicing with an out-of-order index is generating 11 times more chunks\n",
      "  return self.array[key]\n",
      "/glade/u/ssg/ch/usr/jupyterhub/envs/npl-3.7.9/dav/lib/python3.7/site-packages/xarray/core/indexing.py:1369: PerformanceWarning: Slicing with an out-of-order index is generating 11 times more chunks\n",
      "  return self.array[key]\n"
     ]
    }
   ],
   "source": [
    "x = dsd.SOILWATER_10CM.groupby('time.season')\n",
    "y = dsd.FSH.groupby('time.season')\n",
    "cv0 = (x-x.mean())*(y-y.mean())\n",
    "cv  = cv0.groupby('time.season').sum()/x.count()\n",
    "couplingIndex = (cv/x.std()).compute()"
   ]
  },
  {
   "cell_type": "code",
   "execution_count": null,
   "id": "6133f238-844e-4f63-93d1-ba13f03568a2",
   "metadata": {},
   "outputs": [],
   "source": [
    "hot_area = (la*(couplingIndex<-10)).sum(dim='gridcell')\n",
    "rel_area = hot_area/hot_area[0,:]"
   ]
  },
  {
   "cell_type": "code",
   "execution_count": null,
   "id": "ab981673-a219-4227-9dc2-e95bafff4b23",
   "metadata": {},
   "outputs": [],
   "source": [
    "def plot20(datavar,xdef,xmins,xmaxs,pvals,op,unit):\n",
    "    nx = len(pvals)\n",
    "    plt.plot([xdef,xdef],[0,nx-1],'k:',label='default')\n",
    "    plt.scatter(xmins,range(nx),marker='o',facecolors='none', edgecolors='r',label='low-val')\n",
    "    plt.plot(xmaxs,range(nx),'ro',label='high-val')\n",
    "    plt.legend()\n",
    "    i=-1\n",
    "    for xmin,xmax in zip(xmins,xmaxs):\n",
    "        i+=1\n",
    "        plt.plot([xmin,xmax],[i,i],'r')\n",
    "    plt.yticks(range(nx),pvals)\n",
    "    plt.title(datavar+'_'+op)\n",
    "    plt.xlabel(datavar+'_'+op+' ('+unit+')');"
   ]
  },
  {
   "cell_type": "code",
   "execution_count": null,
   "id": "a942c71b-16ad-4fab-8445-b231c5d1a9d5",
   "metadata": {
    "tags": []
   },
   "outputs": [],
   "source": [
    "unit = 'relative hotspot area'\n",
    "ln1  = 'Terrestrial coupling hotspot area'\n",
    "ln2  = 'area where TCI<-10W/m2 relative to the default model area'\n",
    "nx=20\n",
    "\n",
    "params_top5 = []\n",
    "params_biome = []\n",
    "params_criteria = []\n",
    "params_rank = []\n",
    "params_variable = []\n",
    "params_measure = []\n",
    "\n",
    "plt.figure(figsize=[8,16])\n",
    "for i,seas in zip(range(4),rel_area.season):\n",
    "    sstr = str(seas.values)\n",
    "    xmeans  = [];xmins=[];xmaxs=[];dxs=[]\n",
    "    for u in uniques:\n",
    "        xdef = rel_area.sel(season=seas).isel(ens=0)\n",
    "        pair  = find_pair(rel_area.sel(season=seas),\n",
    "                          dsd.param,dsd.minmax,u)\n",
    "        xmin  = pair[0].values\n",
    "        xmax  = pair[1].values\n",
    "        dx    = abs(xmax-xmin)\n",
    "        \n",
    "        xmins.append(xmin)\n",
    "        xmaxs.append(xmax)\n",
    "        dxs.append(dx)\n",
    "        \n",
    "    ranks = np.argsort(dxs)\n",
    "\n",
    "    pvals = [uniques[ranks[i]] for i in range(-nx,0)]\n",
    "    xmins = [xmins[ranks[i]]   for i in range(-nx,0)]\n",
    "    xmaxs = [xmaxs[ranks[i]]   for i in range(-nx,0)]\n",
    "    \n",
    "    [xmins,xmaxs,pvals] = top_n(iav.isel(biome=i),\n",
    "                                    10,params,minmax,uniques)\n",
    "    \n",
    "    params_top5 = params_top5 + pvals.reverse()[0:cutoff_num]\n",
    "    params_biome = params_biome+['global']*cutoff_num\n",
    "    params_criteria = params_criteria+['LAC'+'_'+seas]*cutoff_num\n",
    "    params_rank = params_rank+np.arange(1,cutoff_num+1).tolist()\n",
    "    params_variable = params_variable+['LAC']*cutoff_num\n",
    "    params_measure = params_measure+['mean']*cutoff_num\n",
    "    \n",
    "    plt.subplot(2,2,i+1)\n",
    "    plot20('LAC',xdef,xmins,xmaxs,pvals,sstr,unit)\n",
    "\n",
    "plt.subplots_adjust(wspace=0.8)\n",
    "plt.subplots_adjust(left=0.22) \n",
    "plt.figtext(0.562,0.925,ln1,fontsize=12,ha='center')\n",
    "plt.figtext(0.562,0.91, ln2,fontsize=12,ha='center')\n",
    "#plt.savefig('../figs/LAcoupling_top20.pdf')"
   ]
  },
  {
   "cell_type": "code",
   "execution_count": null,
   "id": "282d677e-2207-492e-8c55-1e7e2f617a4c",
   "metadata": {},
   "outputs": [],
   "source": [
    "# dictionary of lists \n",
    "df_LAC = pd.DataFrame({'param_name': params_top5, \n",
    "                       'biome': params_biome, \n",
    "                       'criteria': params_criteria, \n",
    "                       'rank': params_rank,\n",
    "                       'variable':params_variable,\n",
    "                       'measure': params_measure} )"
   ]
  },
  {
   "cell_type": "code",
   "execution_count": null,
   "id": "6c5699d8-0a70-483f-9989-0a038689f7ad",
   "metadata": {},
   "outputs": [],
   "source": [
    "df_LAC"
   ]
  },
  {
   "cell_type": "markdown",
   "id": "92a980d9-4cbf-4861-b3fe-24c9b6581dc2",
   "metadata": {},
   "source": [
    "# Combine all criteria"
   ]
  },
  {
   "cell_type": "code",
   "execution_count": 41,
   "id": "d49dce3b-c70e-4ec0-b748-f391e7bb557e",
   "metadata": {},
   "outputs": [],
   "source": [
    "df_all = pd.concat([df_biomes, df_global], ignore_index=True)"
   ]
  },
  {
   "cell_type": "code",
   "execution_count": 42,
   "id": "30f56bba-548e-4236-8313-503b347a1c84",
   "metadata": {},
   "outputs": [
    {
     "name": "stdout",
     "output_type": "stream",
     "text": [
      "(55,)\n",
      "(55,)\n"
     ]
    }
   ],
   "source": [
    "print(np.shape(df_all['param_name'].value_counts()))\n",
    "print(np.shape(df_all['param_name'][df_all['rank']<=5].value_counts()))\n",
    "#df_all['param_name'][df_all['rank']<=5].value_counts()"
   ]
  },
  {
   "cell_type": "code",
   "execution_count": 43,
   "id": "9d5376a0-8f10-455b-9a6c-2d86367b753a",
   "metadata": {},
   "outputs": [],
   "source": [
    "df_all.to_csv('param_rankings_v3.csv')"
   ]
  },
  {
   "cell_type": "code",
   "execution_count": 45,
   "id": "6ec5b111-9889-49a7-a22d-1d45ac341b15",
   "metadata": {},
   "outputs": [],
   "source": [
    "paramkey.to_csv('paramkey.csv')"
   ]
  },
  {
   "cell_type": "code",
   "execution_count": 45,
   "id": "c43de346-6a34-4783-8645-2de374235851",
   "metadata": {},
   "outputs": [
    {
     "data": {
      "text/html": [
       "<div>\n",
       "<style scoped>\n",
       "    .dataframe tbody tr th:only-of-type {\n",
       "        vertical-align: middle;\n",
       "    }\n",
       "\n",
       "    .dataframe tbody tr th {\n",
       "        vertical-align: top;\n",
       "    }\n",
       "\n",
       "    .dataframe thead th {\n",
       "        text-align: right;\n",
       "    }\n",
       "</style>\n",
       "<table border=\"1\" class=\"dataframe\">\n",
       "  <thead>\n",
       "    <tr style=\"text-align: right;\">\n",
       "      <th></th>\n",
       "      <th>param_name</th>\n",
       "      <th>biome</th>\n",
       "      <th>criteria</th>\n",
       "      <th>rank</th>\n",
       "      <th>variable</th>\n",
       "      <th>measure</th>\n",
       "    </tr>\n",
       "  </thead>\n",
       "  <tbody>\n",
       "    <tr>\n",
       "      <th>0</th>\n",
       "      <td>zetamaxstable</td>\n",
       "      <td>Ice sheet</td>\n",
       "      <td>TSA_mean_Ice sheet</td>\n",
       "      <td>1</td>\n",
       "      <td>TSA</td>\n",
       "      <td>mean</td>\n",
       "    </tr>\n",
       "    <tr>\n",
       "      <th>1</th>\n",
       "      <td>zsno</td>\n",
       "      <td>Ice sheet</td>\n",
       "      <td>TSA_mean_Ice sheet</td>\n",
       "      <td>2</td>\n",
       "      <td>TSA</td>\n",
       "      <td>mean</td>\n",
       "    </tr>\n",
       "    <tr>\n",
       "      <th>2</th>\n",
       "      <td>xdrdt</td>\n",
       "      <td>Ice sheet</td>\n",
       "      <td>TSA_mean_Ice sheet</td>\n",
       "      <td>3</td>\n",
       "      <td>TSA</td>\n",
       "      <td>mean</td>\n",
       "    </tr>\n",
       "    <tr>\n",
       "      <th>3</th>\n",
       "      <td>snw_rds_refrz</td>\n",
       "      <td>Ice sheet</td>\n",
       "      <td>TSA_mean_Ice sheet</td>\n",
       "      <td>4</td>\n",
       "      <td>TSA</td>\n",
       "      <td>mean</td>\n",
       "    </tr>\n",
       "    <tr>\n",
       "      <th>4</th>\n",
       "      <td>slopebeta</td>\n",
       "      <td>Ice sheet</td>\n",
       "      <td>TSA_mean_Ice sheet</td>\n",
       "      <td>5</td>\n",
       "      <td>TSA</td>\n",
       "      <td>mean</td>\n",
       "    </tr>\n",
       "    <tr>\n",
       "      <th>...</th>\n",
       "      <td>...</td>\n",
       "      <td>...</td>\n",
       "      <td>...</td>\n",
       "      <td>...</td>\n",
       "      <td>...</td>\n",
       "      <td>...</td>\n",
       "    </tr>\n",
       "    <tr>\n",
       "      <th>255</th>\n",
       "      <td>FUN_fracfixers</td>\n",
       "      <td>global</td>\n",
       "      <td>U10_IAV_global</td>\n",
       "      <td>1</td>\n",
       "      <td>U10</td>\n",
       "      <td>iav</td>\n",
       "    </tr>\n",
       "    <tr>\n",
       "      <th>256</th>\n",
       "      <td>fff</td>\n",
       "      <td>global</td>\n",
       "      <td>U10_IAV_global</td>\n",
       "      <td>2</td>\n",
       "      <td>U10</td>\n",
       "      <td>iav</td>\n",
       "    </tr>\n",
       "    <tr>\n",
       "      <th>257</th>\n",
       "      <td>sand_pf</td>\n",
       "      <td>global</td>\n",
       "      <td>U10_IAV_global</td>\n",
       "      <td>3</td>\n",
       "      <td>U10</td>\n",
       "      <td>iav</td>\n",
       "    </tr>\n",
       "    <tr>\n",
       "      <th>258</th>\n",
       "      <td>froot_leaf</td>\n",
       "      <td>global</td>\n",
       "      <td>U10_IAV_global</td>\n",
       "      <td>4</td>\n",
       "      <td>U10</td>\n",
       "      <td>iav</td>\n",
       "    </tr>\n",
       "    <tr>\n",
       "      <th>259</th>\n",
       "      <td>medlynintercept</td>\n",
       "      <td>global</td>\n",
       "      <td>U10_IAV_global</td>\n",
       "      <td>5</td>\n",
       "      <td>U10</td>\n",
       "      <td>iav</td>\n",
       "    </tr>\n",
       "  </tbody>\n",
       "</table>\n",
       "<p>260 rows × 6 columns</p>\n",
       "</div>"
      ],
      "text/plain": [
       "          param_name      biome            criteria  rank variable measure\n",
       "0      zetamaxstable  Ice sheet  TSA_mean_Ice sheet     1      TSA    mean\n",
       "1               zsno  Ice sheet  TSA_mean_Ice sheet     2      TSA    mean\n",
       "2              xdrdt  Ice sheet  TSA_mean_Ice sheet     3      TSA    mean\n",
       "3      snw_rds_refrz  Ice sheet  TSA_mean_Ice sheet     4      TSA    mean\n",
       "4          slopebeta  Ice sheet  TSA_mean_Ice sheet     5      TSA    mean\n",
       "..               ...        ...                 ...   ...      ...     ...\n",
       "255   FUN_fracfixers     global      U10_IAV_global     1      U10     iav\n",
       "256              fff     global      U10_IAV_global     2      U10     iav\n",
       "257          sand_pf     global      U10_IAV_global     3      U10     iav\n",
       "258       froot_leaf     global      U10_IAV_global     4      U10     iav\n",
       "259  medlynintercept     global      U10_IAV_global     5      U10     iav\n",
       "\n",
       "[260 rows x 6 columns]"
      ]
     },
     "execution_count": 45,
     "metadata": {},
     "output_type": "execute_result"
    }
   ],
   "source": [
    "df_all"
   ]
  },
  {
   "cell_type": "code",
   "execution_count": null,
   "id": "72ee8891-ae94-475f-8ac7-ffb40813fd9e",
   "metadata": {},
   "outputs": [],
   "source": []
  }
 ],
 "metadata": {
  "kernelspec": {
   "display_name": "NPL-3.7.9",
   "language": "python",
   "name": "npl-3.7.9"
  },
  "language_info": {
   "codemirror_mode": {
    "name": "ipython",
    "version": 3
   },
   "file_extension": ".py",
   "mimetype": "text/x-python",
   "name": "python",
   "nbconvert_exporter": "python",
   "pygments_lexer": "ipython3",
   "version": "3.7.9"
  }
 },
 "nbformat": 4,
 "nbformat_minor": 5
}
